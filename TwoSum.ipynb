{
  "nbformat": 4,
  "nbformat_minor": 0,
  "metadata": {
    "colab": {
      "name": "TwoSum.ipynb",
      "provenance": [],
      "collapsed_sections": [],
      "authorship_tag": "ABX9TyMiW8pXH5/DwR/j6+/oc0HB"
    },
    "kernelspec": {
      "name": "python3",
      "display_name": "Python 3"
    },
    "language_info": {
      "name": "python"
    }
  },
  "cells": [
    {
      "cell_type": "code",
      "execution_count": null,
      "metadata": {
        "id": "yJXn5EP8udCk"
      },
      "outputs": [],
      "source": [
        "def twoSum(nums, target):\n",
        "        \"\"\"\n",
        "        :type nums: List[int]\n",
        "        :type target: int\n",
        "        :rtype: List[int]\n",
        "        \"\"\"\n",
        "        dict1 = {}\n",
        "        for i in range(len(nums)):\n",
        "            if (target - nums[i]) not in dict1:\n",
        "                dict1[nums[i]] = i\n",
        "            else:\n",
        "                return [dict1[target-nums[i]],i]"
      ]
    },
    {
      "cell_type": "code",
      "source": [
        "nums = [2,7,11,15]\n",
        "target = 9\n",
        "twoSum(nums, target)\n",
        "#Output: [0,1]"
      ],
      "metadata": {
        "colab": {
          "base_uri": "https://localhost:8080/"
        },
        "id": "GEue0o03u-nX",
        "outputId": "f2742d9c-667f-49e0-f8bf-26832baaf429"
      },
      "execution_count": null,
      "outputs": [
        {
          "output_type": "execute_result",
          "data": {
            "text/plain": [
              "[0, 1]"
            ]
          },
          "metadata": {},
          "execution_count": 7
        }
      ]
    },
    {
      "cell_type": "code",
      "source": [
        "nums = [3,2,4]\n",
        "target = 6\n",
        "twoSum(nums, target)\n",
        "#Output: [1,2]\n"
      ],
      "metadata": {
        "colab": {
          "base_uri": "https://localhost:8080/"
        },
        "id": "kQvYfMjAvEfj",
        "outputId": "0a54b0a6-97b7-48c0-800d-108b04cb4ea1"
      },
      "execution_count": null,
      "outputs": [
        {
          "output_type": "execute_result",
          "data": {
            "text/plain": [
              "[1, 2]"
            ]
          },
          "metadata": {},
          "execution_count": 8
        }
      ]
    },
    {
      "cell_type": "code",
      "source": [
        "nums = [3,3]\n",
        "target = 6\n",
        "twoSum(nums, target)\n",
        "#utput: [0,1]"
      ],
      "metadata": {
        "colab": {
          "base_uri": "https://localhost:8080/"
        },
        "id": "SI5PbDHkvOdN",
        "outputId": "c81e6b04-b2a4-47d0-849c-031078b6b427"
      },
      "execution_count": null,
      "outputs": [
        {
          "output_type": "execute_result",
          "data": {
            "text/plain": [
              "[0, 1]"
            ]
          },
          "metadata": {},
          "execution_count": 10
        }
      ]
    },
    {
      "cell_type": "code",
      "source": [
        "# Solution accepted"
      ],
      "metadata": {
        "id": "NAfFUaF2vbm_"
      },
      "execution_count": null,
      "outputs": []
    }
  ]
}