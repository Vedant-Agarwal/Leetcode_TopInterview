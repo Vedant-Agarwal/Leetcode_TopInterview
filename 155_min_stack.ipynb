{
  "nbformat": 4,
  "nbformat_minor": 0,
  "metadata": {
    "colab": {
      "name": "155.min_stack.ipynb",
      "provenance": [],
      "authorship_tag": "ABX9TyNkbiTNvRG+TStpE/cxmt8x",
      "include_colab_link": true
    },
    "kernelspec": {
      "name": "python3",
      "display_name": "Python 3"
    },
    "language_info": {
      "name": "python"
    }
  },
  "cells": [
    {
      "cell_type": "markdown",
      "metadata": {
        "id": "view-in-github",
        "colab_type": "text"
      },
      "source": [
        "<a href=\"https://colab.research.google.com/github/Vedant-Agarwal/Leetcode_TopInterview/blob/main/155_min_stack.ipynb\" target=\"_parent\"><img src=\"https://colab.research.google.com/assets/colab-badge.svg\" alt=\"Open In Colab\"/></a>"
      ]
    },
    {
      "cell_type": "code",
      "execution_count": null,
      "metadata": {
        "id": "m2PTvmb-hRMD"
      },
      "outputs": [],
      "source": [
        "class MinStack:\n",
        "\n",
        "    def __init__(self):\n",
        "        self.array = []\n",
        "        \n",
        "\n",
        "    def push(self, val: int) -> None:\n",
        "        if len(self.array) == 0:\n",
        "            self.array.append([val, val])\n",
        "        else:\n",
        "            if val < self.array[-1][1]:\n",
        "                self.array.append([val, val])\n",
        "            else:\n",
        "                self.array.append([val, self.array[-1][1]])\n",
        "        return self.array\n",
        "          \n",
        "    def pop(self) -> None:\n",
        "        self.array.pop()\n",
        "        return self.array\n",
        "    def top(self) -> int:\n",
        "        return self.array[-1][0]\n",
        "\n",
        "    def getMin(self) -> int:\n",
        "        return self.array[-1][1]\n",
        "        \n",
        "\n",
        "\n"
      ]
    }
  ]
}