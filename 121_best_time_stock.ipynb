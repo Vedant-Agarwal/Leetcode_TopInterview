{
  "nbformat": 4,
  "nbformat_minor": 0,
  "metadata": {
    "colab": {
      "name": "121.best_time_stock.ipynb",
      "provenance": [],
      "authorship_tag": "ABX9TyOCMvojYc6u0qVKLbgpFuYO",
      "include_colab_link": true
    },
    "kernelspec": {
      "name": "python3",
      "display_name": "Python 3"
    },
    "language_info": {
      "name": "python"
    }
  },
  "cells": [
    {
      "cell_type": "markdown",
      "metadata": {
        "id": "view-in-github",
        "colab_type": "text"
      },
      "source": [
        "<a href=\"https://colab.research.google.com/github/Vedant-Agarwal/Leetcode_TopInterview/blob/main/121_best_time_stock.ipynb\" target=\"_parent\"><img src=\"https://colab.research.google.com/assets/colab-badge.svg\" alt=\"Open In Colab\"/></a>"
      ]
    },
    {
      "cell_type": "code",
      "execution_count": 1,
      "metadata": {
        "id": "6a0bSnIihcpw"
      },
      "outputs": [],
      "source": [
        " def maxProfit(prices):\n",
        "        min_price = float('inf')\n",
        "        max_profit = 0\n",
        "        for i in range(len(prices)):\n",
        "            if prices[i] < min_price:\n",
        "                min_price = prices[i]\n",
        "            elif prices[i] - min_price > max_profit:\n",
        "                max_profit = prices[i] - min_price\n",
        "        return max_profit"
      ]
    },
    {
      "cell_type": "code",
      "source": [
        "prices = [7,1,5,3,6,4]\n",
        "#Output: 5\n",
        "maxProfit(prices)"
      ],
      "metadata": {
        "colab": {
          "base_uri": "https://localhost:8080/"
        },
        "id": "ZT3cjgoIqtFH",
        "outputId": "7f131c51-e30f-4cf5-9697-38d0b086f85b"
      },
      "execution_count": 2,
      "outputs": [
        {
          "output_type": "execute_result",
          "data": {
            "text/plain": [
              "5"
            ]
          },
          "metadata": {},
          "execution_count": 2
        }
      ]
    },
    {
      "cell_type": "code",
      "source": [
        "prices = [7,6,4,3,1]\n",
        "#Output: 5\n",
        "maxProfit(prices)"
      ],
      "metadata": {
        "colab": {
          "base_uri": "https://localhost:8080/"
        },
        "id": "5F2kQLuxqwuU",
        "outputId": "f37f8e07-d7fb-4cd4-8d83-f09afd0843fd"
      },
      "execution_count": 3,
      "outputs": [
        {
          "output_type": "execute_result",
          "data": {
            "text/plain": [
              "0"
            ]
          },
          "metadata": {},
          "execution_count": 3
        }
      ]
    }
  ]
}