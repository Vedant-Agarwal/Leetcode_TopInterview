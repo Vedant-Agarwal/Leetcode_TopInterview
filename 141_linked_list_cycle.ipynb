{
  "nbformat": 4,
  "nbformat_minor": 0,
  "metadata": {
    "colab": {
      "name": "141.linked_list_cycle.ipynb",
      "provenance": [],
      "authorship_tag": "ABX9TyOpugKRAOzeFoTVXMKH1597",
      "include_colab_link": true
    },
    "kernelspec": {
      "name": "python3",
      "display_name": "Python 3"
    },
    "language_info": {
      "name": "python"
    }
  },
  "cells": [
    {
      "cell_type": "markdown",
      "metadata": {
        "id": "view-in-github",
        "colab_type": "text"
      },
      "source": [
        "<a href=\"https://colab.research.google.com/github/Vedant-Agarwal/Leetcode_TopInterview/blob/main/141_linked_list_cycle.ipynb\" target=\"_parent\"><img src=\"https://colab.research.google.com/assets/colab-badge.svg\" alt=\"Open In Colab\"/></a>"
      ]
    },
    {
      "cell_type": "code",
      "execution_count": 2,
      "metadata": {
        "id": "75fhzzaXakDQ"
      },
      "outputs": [],
      "source": [
        "class Solution:\n",
        "    def hasCycle(head):\n",
        "        slow = head\n",
        "        fast = head\n",
        "        \n",
        "        while fast and fast.next:\n",
        "            slow = slow.next\n",
        "            fast = fast.next.next\n",
        "        \n",
        "            if slow == fast:\n",
        "                return True\n",
        "            \n",
        "        return False"
      ]
    },
    {
      "cell_type": "code",
      "source": [
        ""
      ],
      "metadata": {
        "id": "Fn2y1uRFa54O"
      },
      "execution_count": null,
      "outputs": []
    }
  ]
}