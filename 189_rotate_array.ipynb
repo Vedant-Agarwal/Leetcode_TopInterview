{
  "nbformat": 4,
  "nbformat_minor": 0,
  "metadata": {
    "colab": {
      "name": "189.rotate_array.ipynb",
      "provenance": [],
      "authorship_tag": "ABX9TyMvhKYUIGW/h6Nwgpi+3RhZ",
      "include_colab_link": true
    },
    "kernelspec": {
      "name": "python3",
      "display_name": "Python 3"
    },
    "language_info": {
      "name": "python"
    }
  },
  "cells": [
    {
      "cell_type": "markdown",
      "metadata": {
        "id": "view-in-github",
        "colab_type": "text"
      },
      "source": [
        "<a href=\"https://colab.research.google.com/github/Vedant-Agarwal/Leetcode_TopInterview/blob/main/189_rotate_array.ipynb\" target=\"_parent\"><img src=\"https://colab.research.google.com/assets/colab-badge.svg\" alt=\"Open In Colab\"/></a>"
      ]
    },
    {
      "cell_type": "code",
      "execution_count": 2,
      "metadata": {
        "id": "LlgE4gXUvWcj"
      },
      "outputs": [],
      "source": [
        " def rotate(num, k):\n",
        "        \"\"\"\n",
        "        Do not return anything, modify nums in-place instead.\n",
        "        \"\"\"\n",
        "        for i in range(k):\n",
        "            nums.insert(0, nums.pop())\n",
        "        return nums"
      ]
    },
    {
      "cell_type": "code",
      "source": [
        "nums = [-1,-100,3,99]\n",
        "k = 2\n",
        "#Output: [3,99,-1,-100]\n",
        "rotate(nums, k)"
      ],
      "metadata": {
        "colab": {
          "base_uri": "https://localhost:8080/"
        },
        "id": "6UjKoOJyvexb",
        "outputId": "c5f43d0c-fb12-4dd9-fbd4-2747eff12856"
      },
      "execution_count": 5,
      "outputs": [
        {
          "output_type": "execute_result",
          "data": {
            "text/plain": [
              "[3, 99, -1, -100]"
            ]
          },
          "metadata": {},
          "execution_count": 5
        }
      ]
    },
    {
      "cell_type": "code",
      "source": [
        "nums = [1,2,3,4,5,6,7]\n",
        "k = 3\n",
        "#Output: [5,6,7,1,2,3,4]\n",
        "rotate(nums, k)"
      ],
      "metadata": {
        "colab": {
          "base_uri": "https://localhost:8080/"
        },
        "id": "WJHYEq8-vmAa",
        "outputId": "0c9cdfad-5c8d-4237-c186-57ede4badad5"
      },
      "execution_count": 6,
      "outputs": [
        {
          "output_type": "execute_result",
          "data": {
            "text/plain": [
              "[5, 6, 7, 1, 2, 3, 4]"
            ]
          },
          "metadata": {},
          "execution_count": 6
        }
      ]
    },
    {
      "cell_type": "code",
      "source": [
        "'''\n",
        "ARRAY OPERATION\tREAL TIME COMPLEXITY\tASSUMED TIME COMPLEXITY\n",
        "Access i-th element\tO(√N),\tO(1)\n",
        "Traverse all elements\tO(N + √N),\tO(N)\n",
        "Override element at i-th index\tO(√N),\tO(1)\n",
        "Insert element E\tO(N + √N),\tO(N)\n",
        "Delete element E\tO(N + √N),\tO(N)\n",
        "'''\n"
      ],
      "metadata": {
        "colab": {
          "base_uri": "https://localhost:8080/",
          "height": 55
        },
        "id": "dzMBj8dxvuSZ",
        "outputId": "a0ee353c-23a5-4f1e-c321-c38a9d1b41fe"
      },
      "execution_count": 7,
      "outputs": [
        {
          "output_type": "execute_result",
          "data": {
            "text/plain": [
              "'\\nARRAY OPERATION\\tREAL TIME COMPLEXITY\\tASSUMED TIME COMPLEXITY\\nAccess i-th element\\tO(√N),\\tO(1)\\nTraverse all elements\\tO(N + √N),\\tO(N)\\nOverride element at i-th index\\tO(√N),\\tO(1)\\nInsert element E\\tO(N + √N),\\tO(N)\\nDelete element E\\tO(N + √N),\\tO(N)\\n'"
            ],
            "application/vnd.google.colaboratory.intrinsic+json": {
              "type": "string"
            }
          },
          "metadata": {},
          "execution_count": 7
        }
      ]
    },
    {
      "cell_type": "code",
      "source": [
        "def reverse(list):\n",
        "  left = 0\n",
        "  right = len(list) - 1\n",
        "  while left < right:\n",
        "    list[left], list[right] = list[right], list[left]\n",
        "    left += 1\n",
        "    right -= 1\n",
        "  return list"
      ],
      "metadata": {
        "id": "zdXxaQqEv9iC"
      },
      "execution_count": 10,
      "outputs": []
    },
    {
      "cell_type": "code",
      "source": [
        "reverse([1,2,3,4,5,6])"
      ],
      "metadata": {
        "colab": {
          "base_uri": "https://localhost:8080/"
        },
        "id": "fp_vXb2mwXxp",
        "outputId": "100f54ec-f31f-4b29-c4f6-98b596b290da"
      },
      "execution_count": 11,
      "outputs": [
        {
          "output_type": "execute_result",
          "data": {
            "text/plain": [
              "[6, 5, 4, 3, 2, 1]"
            ]
          },
          "metadata": {},
          "execution_count": 11
        }
      ]
    },
    {
      "cell_type": "code",
      "source": [
        "'''\n",
        "3 passes\n",
        "1. reverse the entire list\n",
        "2. reverse the numbers before k\n",
        "3. reverse the numbers after k\n",
        "'''\n"
      ],
      "metadata": {
        "id": "olcd5lsXwcWE"
      },
      "execution_count": null,
      "outputs": []
    }
  ]
}