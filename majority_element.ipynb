{
  "nbformat": 4,
  "nbformat_minor": 0,
  "metadata": {
    "colab": {
      "name": "majority_element.ipynb",
      "provenance": [],
      "collapsed_sections": [],
      "authorship_tag": "ABX9TyNvkzsO4Mo9Daen7PDcFlY+"
    },
    "kernelspec": {
      "name": "python3",
      "display_name": "Python 3"
    },
    "language_info": {
      "name": "python"
    }
  },
  "cells": [
    {
      "cell_type": "code",
      "execution_count": 3,
      "metadata": {
        "id": "hZdpIalifKXS"
      },
      "outputs": [],
      "source": [
        "def majorityElement(nums):\n",
        "        \"\"\"\n",
        "        :type nums: List[int]\n",
        "        :rtype: int\n",
        "        \"\"\"\n",
        "        len_list = len(nums)// 2\n",
        "        dict1 = {}\n",
        "        for i in range(len(nums)):\n",
        "            if nums[i] not in dict1:\n",
        "                dict1[nums[i]] = 1\n",
        "            else:\n",
        "                dict1[nums[i]] += 1\n",
        "        \n",
        "        for key, values in dict1.items():\n",
        "            if values > len_list:\n",
        "                return key"
      ]
    },
    {
      "cell_type": "code",
      "source": [
        "nums = [3,2,3]\n",
        "#Output: 3\n",
        "majorityElement(nums)"
      ],
      "metadata": {
        "colab": {
          "base_uri": "https://localhost:8080/"
        },
        "id": "Ju56iCwpfN2p",
        "outputId": "719266a5-2765-4d03-dd86-15f236acb411"
      },
      "execution_count": 4,
      "outputs": [
        {
          "output_type": "execute_result",
          "data": {
            "text/plain": [
              "3"
            ]
          },
          "metadata": {},
          "execution_count": 4
        }
      ]
    },
    {
      "cell_type": "code",
      "source": [
        "nums = [2,2,1,1,1,2,2]\n",
        "#Output: 2\n",
        "majorityElement(nums)"
      ],
      "metadata": {
        "colab": {
          "base_uri": "https://localhost:8080/"
        },
        "id": "iKXVEjmJfWnG",
        "outputId": "8f0ab96d-9c74-487e-8e68-0b48b4d64bdd"
      },
      "execution_count": 5,
      "outputs": [
        {
          "output_type": "execute_result",
          "data": {
            "text/plain": [
              "2"
            ]
          },
          "metadata": {},
          "execution_count": 5
        }
      ]
    },
    {
      "cell_type": "code",
      "source": [
        "# Accepted Solution"
      ],
      "metadata": {
        "id": "U0CUWU4cfewm"
      },
      "execution_count": null,
      "outputs": []
    }
  ]
}