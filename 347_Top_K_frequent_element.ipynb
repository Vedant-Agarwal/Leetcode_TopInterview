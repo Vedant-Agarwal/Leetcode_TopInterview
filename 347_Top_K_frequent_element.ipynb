{
  "nbformat": 4,
  "nbformat_minor": 0,
  "metadata": {
    "colab": {
      "provenance": [],
      "authorship_tag": "ABX9TyMa8XBXEbuEygyqUNbcA+dF",
      "include_colab_link": true
    },
    "kernelspec": {
      "name": "python3",
      "display_name": "Python 3"
    },
    "language_info": {
      "name": "python"
    }
  },
  "cells": [
    {
      "cell_type": "markdown",
      "metadata": {
        "id": "view-in-github",
        "colab_type": "text"
      },
      "source": [
        "<a href=\"https://colab.research.google.com/github/Vedant-Agarwal/Leetcode_TopInterview/blob/main/347_Top_K_frequent_element.ipynb\" target=\"_parent\"><img src=\"https://colab.research.google.com/assets/colab-badge.svg\" alt=\"Open In Colab\"/></a>"
      ]
    },
    {
      "cell_type": "code",
      "execution_count": 3,
      "metadata": {
        "colab": {
          "base_uri": "https://localhost:8080/"
        },
        "id": "eGJJZKlqWHJ8",
        "outputId": "d4046395-d3b8-4124-adcb-a982f3fd5171"
      },
      "outputs": [
        {
          "output_type": "execute_result",
          "data": {
            "text/plain": [
              "Counter({'i': 1, 'am': 1, 'Vedant': 2})"
            ]
          },
          "metadata": {},
          "execution_count": 3
        }
      ],
      "source": [
        "import collections\n",
        "\n",
        "temp_list = ['i', 'am', 'Vedant', 'Vedant']\n",
        "\n",
        "counter = collections.Counter(temp_list)\n",
        "counter"
      ]
    },
    {
      "cell_type": "code",
      "source": [],
      "metadata": {
        "id": "n41psHh9WYTm"
      },
      "execution_count": null,
      "outputs": []
    }
  ]
}