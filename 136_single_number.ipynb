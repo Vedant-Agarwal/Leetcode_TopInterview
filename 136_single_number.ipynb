{
  "nbformat": 4,
  "nbformat_minor": 0,
  "metadata": {
    "colab": {
      "name": "136.single_number.ipynb",
      "provenance": [],
      "authorship_tag": "ABX9TyP5LEu6ntNb7VzmFq9EjIb7",
      "include_colab_link": true
    },
    "kernelspec": {
      "name": "python3",
      "display_name": "Python 3"
    },
    "language_info": {
      "name": "python"
    }
  },
  "cells": [
    {
      "cell_type": "markdown",
      "metadata": {
        "id": "view-in-github",
        "colab_type": "text"
      },
      "source": [
        "<a href=\"https://colab.research.google.com/github/Vedant-Agarwal/Leetcode_TopInterview/blob/main/136_single_number.ipynb\" target=\"_parent\"><img src=\"https://colab.research.google.com/assets/colab-badge.svg\" alt=\"Open In Colab\"/></a>"
      ]
    },
    {
      "cell_type": "code",
      "execution_count": 11,
      "metadata": {
        "colab": {
          "base_uri": "https://localhost:8080/"
        },
        "id": "maV3bnaUXsCh",
        "outputId": "06856df7-db96-4ad3-9415-5d221c422892"
      },
      "outputs": [
        {
          "output_type": "execute_result",
          "data": {
            "text/plain": [
              "1"
            ]
          },
          "metadata": {},
          "execution_count": 11
        }
      ],
      "source": [
        "# use cases\n",
        "nums = [2,2,1]\n",
        "singleNumber(nums)\n",
        "#Output: 1"
      ]
    },
    {
      "cell_type": "code",
      "source": [
        "nums = [4,1,2,1,2]\n",
        "singleNumber(nums)\n",
        "#Output: 4"
      ],
      "metadata": {
        "colab": {
          "base_uri": "https://localhost:8080/"
        },
        "id": "KVb2uab2YLTG",
        "outputId": "073baeb4-dc53-4dfb-8d41-22e98c834285"
      },
      "execution_count": 12,
      "outputs": [
        {
          "output_type": "execute_result",
          "data": {
            "text/plain": [
              "4"
            ]
          },
          "metadata": {},
          "execution_count": 12
        }
      ]
    },
    {
      "cell_type": "code",
      "source": [
        "nums = [1]\n",
        "singleNumber(nums)\n",
        "#Output: 1"
      ],
      "metadata": {
        "colab": {
          "base_uri": "https://localhost:8080/"
        },
        "id": "whF_8QvIYPLl",
        "outputId": "f82b5be0-b213-411b-bcf3-be0d87dbec58"
      },
      "execution_count": 13,
      "outputs": [
        {
          "output_type": "execute_result",
          "data": {
            "text/plain": [
              "1"
            ]
          },
          "metadata": {},
          "execution_count": 13
        }
      ]
    },
    {
      "cell_type": "code",
      "source": [
        "def singleNumber(list):\n",
        "    dict1 = {}\n",
        "    for i in range(len(nums)):\n",
        "      if nums[i] not in dict1:\n",
        "        dict1[nums[i]] = 1\n",
        "      else:\n",
        "        dict1[nums[i]] += 1\n",
        "\n",
        "    for key, values in dict1.items():\n",
        "      if values == 1:\n",
        "        return key"
      ],
      "metadata": {
        "id": "oRcsZvUFYUqM"
      },
      "execution_count": 14,
      "outputs": []
    },
    {
      "cell_type": "code",
      "source": [
        "'''\n",
        "Using a dictionary has a space complexity of O(n) but a time complexity of O(n), which is desirable.\n",
        "Using bit manipulation is the correct answer to solve for O(n) space complexity.\n",
        "'''\n",
        "\n"
      ],
      "metadata": {
        "id": "uwmWOLnmZUEZ"
      },
      "execution_count": null,
      "outputs": []
    }
  ]
}