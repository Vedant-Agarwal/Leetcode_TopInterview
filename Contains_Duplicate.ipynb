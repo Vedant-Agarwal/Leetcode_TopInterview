{
  "nbformat": 4,
  "nbformat_minor": 0,
  "metadata": {
    "colab": {
      "name": "Contains Duplicate.ipynb",
      "provenance": [],
      "authorship_tag": "ABX9TyN9sfaYTnNC43mKaK+iv04s",
      "include_colab_link": true
    },
    "kernelspec": {
      "name": "python3",
      "display_name": "Python 3"
    },
    "language_info": {
      "name": "python"
    }
  },
  "cells": [
    {
      "cell_type": "markdown",
      "metadata": {
        "id": "view-in-github",
        "colab_type": "text"
      },
      "source": [
        "<a href=\"https://colab.research.google.com/github/Vedant-Agarwal/Leetcode_TopInterview/blob/main/Contains_Duplicate.ipynb\" target=\"_parent\"><img src=\"https://colab.research.google.com/assets/colab-badge.svg\" alt=\"Open In Colab\"/></a>"
      ]
    },
    {
      "cell_type": "code",
      "execution_count": 3,
      "metadata": {
        "id": "S-sS1PlBkMte"
      },
      "outputs": [],
      "source": [
        " def containsDuplicate(nums):\n",
        "      dict1 = {}\n",
        "      for i in range(len(nums)):\n",
        "          if nums[i] not in dict1:\n",
        "               dict1[nums[i]] = 1\n",
        "          else:\n",
        "              dict1[nums[i]] += 1\n",
        "      \n",
        "      for key, values in dict1.items():\n",
        "          if values > 1:\n",
        "              return True\n",
        "        \n",
        "      return False"
      ]
    },
    {
      "cell_type": "code",
      "source": [
        "nums = [1,2,3,1]\n",
        "containsDuplicate(nums)\n",
        "# Output: true"
      ],
      "metadata": {
        "colab": {
          "base_uri": "https://localhost:8080/"
        },
        "id": "PnKF29K2nbLl",
        "outputId": "9fa285b8-5e74-4f18-a331-0a63e1721fe9"
      },
      "execution_count": 4,
      "outputs": [
        {
          "output_type": "execute_result",
          "data": {
            "text/plain": [
              "True"
            ]
          },
          "metadata": {},
          "execution_count": 4
        }
      ]
    },
    {
      "cell_type": "code",
      "source": [
        "nums = [1,2,3,4]\n",
        "containsDuplicate(nums)\n",
        "# Output: false"
      ],
      "metadata": {
        "colab": {
          "base_uri": "https://localhost:8080/"
        },
        "id": "AC-PBF-bnc5k",
        "outputId": "f2e317e9-ece9-4bf1-fdd1-2d283ea5acae"
      },
      "execution_count": 5,
      "outputs": [
        {
          "output_type": "execute_result",
          "data": {
            "text/plain": [
              "False"
            ]
          },
          "metadata": {},
          "execution_count": 5
        }
      ]
    },
    {
      "cell_type": "code",
      "source": [
        "nums = [1,1,1,3,3,4,3,2,4,2]\n",
        "containsDuplicate(nums)\n",
        "# Output: true"
      ],
      "metadata": {
        "colab": {
          "base_uri": "https://localhost:8080/"
        },
        "id": "3UYpxySYrNnB",
        "outputId": "bac7e1c8-ac3a-451e-b6c5-ae2eb2a3251c"
      },
      "execution_count": 6,
      "outputs": [
        {
          "output_type": "execute_result",
          "data": {
            "text/plain": [
              "True"
            ]
          },
          "metadata": {},
          "execution_count": 6
        }
      ]
    }
  ]
}