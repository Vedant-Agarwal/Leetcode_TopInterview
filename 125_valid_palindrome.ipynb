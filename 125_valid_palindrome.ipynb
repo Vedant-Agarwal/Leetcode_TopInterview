{
  "nbformat": 4,
  "nbformat_minor": 0,
  "metadata": {
    "colab": {
      "name": "125.valid_palindrome.ipynb",
      "provenance": [],
      "authorship_tag": "ABX9TyM0QqivJJvjihHnesDCaPVC",
      "include_colab_link": true
    },
    "kernelspec": {
      "name": "python3",
      "display_name": "Python 3"
    },
    "language_info": {
      "name": "python"
    }
  },
  "cells": [
    {
      "cell_type": "markdown",
      "metadata": {
        "id": "view-in-github",
        "colab_type": "text"
      },
      "source": [
        "<a href=\"https://colab.research.google.com/github/Vedant-Agarwal/Leetcode_TopInterview/blob/main/125_valid_palindrome.ipynb\" target=\"_parent\"><img src=\"https://colab.research.google.com/assets/colab-badge.svg\" alt=\"Open In Colab\"/></a>"
      ]
    },
    {
      "cell_type": "code",
      "execution_count": 1,
      "metadata": {
        "id": "tTncPWjjbBSB"
      },
      "outputs": [],
      "source": [
        "def isPalindrome(s) :\n",
        "      left = 0\n",
        "      right = len(s) - 1\n",
        "      while left < right:\n",
        "          while left < right and not s[left].isalnum():\n",
        "              left += 1\n",
        "          while left < right and not s[right].isalnum():\n",
        "              right -= 1\n",
        "          if s[left].lower() != s[right].lower():\n",
        "              return False\n",
        "          left += 1\n",
        "          right -= 1\n",
        "      \n",
        "      return True"
      ]
    },
    {
      "cell_type": "code",
      "source": [
        "'''\n",
        "Notes:\n",
        "1. isalnum() function\n",
        "2. consider lower case\n",
        "3. dictionary won't work because of the endless list  of characters in the test cases\n",
        "'''"
      ],
      "metadata": {
        "id": "09__2W2meUtL"
      },
      "execution_count": null,
      "outputs": []
    }
  ]
}