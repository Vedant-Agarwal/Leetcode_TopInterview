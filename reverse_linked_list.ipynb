{
  "nbformat": 4,
  "nbformat_minor": 0,
  "metadata": {
    "colab": {
      "name": "reverse_linked_list.ipynb",
      "provenance": [],
      "authorship_tag": "ABX9TyMi6ZRsnVDpUZfAn4PXVyM/"
    },
    "kernelspec": {
      "name": "python3",
      "display_name": "Python 3"
    },
    "language_info": {
      "name": "python"
    }
  },
  "cells": [
    {
      "cell_type": "code",
      "execution_count": 10,
      "metadata": {
        "id": "9QmpVKRLYIek"
      },
      "outputs": [],
      "source": [
        "# Definition for singly-linked list.\n",
        "class ListNode(object):\n",
        "    def __init__(self, val=0, next=None):\n",
        "        self.val = val\n",
        "        self.next = next\n",
        "class Solution(object):\n",
        "    def reverseList(self, head):\n",
        "        \"\"\"\n",
        "        :type head: ListNode\n",
        "        :rtype: ListNode\n",
        "        \"\"\"\n",
        "        \n",
        "        prev = None\n",
        "        cur = head\n",
        "        \n",
        "        while cur:\n",
        "            nxt = cur.next\n",
        "            cur.next = prev\n",
        "            prev = cur\n",
        "            cur = nxt\n",
        "        return prev\n"
      ]
    },
    {
      "cell_type": "code",
      "source": [
        "# Accepted Solution"
      ],
      "metadata": {
        "id": "GORVJhozbByQ"
      },
      "execution_count": 11,
      "outputs": []
    },
    {
      "cell_type": "code",
      "source": [
        ""
      ],
      "metadata": {
        "id": "dzrnwbDubUCz"
      },
      "execution_count": null,
      "outputs": []
    }
  ]
}